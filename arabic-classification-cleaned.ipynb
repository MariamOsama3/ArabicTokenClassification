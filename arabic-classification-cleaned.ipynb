{
 "cells": [
  {
   "cell_type": "code",
   "execution_count": null,
   "metadata": {
    "execution": {
     "iopub.execute_input": "2025-05-07T20:13:09.092734Z",
     "iopub.status.busy": "2025-05-07T20:13:09.092013Z",
     "iopub.status.idle": "2025-05-07T20:13:12.026668Z",
     "shell.execute_reply": "2025-05-07T20:13:12.025672Z",
     "shell.execute_reply.started": "2025-05-07T20:13:09.092711Z"
    },
    "id": "cTTabtmt3FEX"
   },
   "outputs": [],
   "source": [
    "pip install pyconll"
   ]
  },
  {
   "cell_type": "code",
   "execution_count": null,
   "metadata": {
    "execution": {
     "iopub.execute_input": "2025-05-07T20:13:12.028771Z",
     "iopub.status.busy": "2025-05-07T20:13:12.028514Z",
     "iopub.status.idle": "2025-05-07T20:13:15.297557Z",
     "shell.execute_reply": "2025-05-07T20:13:15.296726Z",
     "shell.execute_reply.started": "2025-05-07T20:13:12.028750Z"
    },
    "id": "p_XlogQNZ8sn"
   },
   "outputs": [],
   "source": [
    "pip install transformers datasets evaluate seqeval"
   ]
  },
  {
   "cell_type": "markdown",
   "metadata": {
    "id": "9Xkp__Jczdju"
   },
   "source": [
    "# Token classification"
   ]
  },
  {
   "cell_type": "code",
   "execution_count": null,
   "metadata": {
    "colab": {
     "base_uri": "https://localhost:8080/",
     "height": 17,
     "referenced_widgets": [
      "2c109342a0fa4b1ca8d432bfaca534e7",
      "c4df070205e34fd0912f6cb7a5a15380",
      "f4366bc61057459cb205abe3d1e92db0",
      "0469862f9b6e403c9720150ab462075a",
      "60f3364b11404af7b200f903ddb0700c",
      "c7f74e17beba441dae58cfd776ac1dd0",
      "933942f6c45f4959b9627867649ed885",
      "612f9a4824294df0adb6e122857b2871",
      "2c9292e8da3244b7bfb1726c359c8ea4",
      "191741f49cc5491f912bc3a0c9175a13",
      "53955082f7f248baaa64cecdc22844b8",
      "1cc1ddb2d766429d8cc8ccf49622b385",
      "4f13de075e884a108feda1f818226d1f",
      "921f6b742a64484fa2953283679cb9bb",
      "5a01127a8da34ec097d2812b6fa6c2e3",
      "90f2395ceaf649bd87a438cf9b30bfcc",
      "ef93ac959734484899228a2f1a3d888c",
      "f7aaabf347b44e21ad79b8ae59a3c306",
      "17babaa5fb444f0196a35c3dfe0e8edf",
      "ea4f11644dea4e81be80095c7b3a912d"
     ]
    },
    "execution": {
     "iopub.execute_input": "2025-05-07T20:13:15.298852Z",
     "iopub.status.busy": "2025-05-07T20:13:15.298628Z",
     "iopub.status.idle": "2025-05-07T20:13:15.316673Z",
     "shell.execute_reply": "2025-05-07T20:13:15.315905Z",
     "shell.execute_reply.started": "2025-05-07T20:13:15.298831Z"
    },
    "id": "omg4M1vuzdjx",
    "outputId": "96fe1e9e-d6fd-4260-8759-6403cd840fc1"
   },
   "outputs": [
    {
     "data": {
      "application/vnd.jupyter.widget-view+json": {
       "model_id": "e3142b9b5e184773bfed6893c43dd7e3",
       "version_major": 2,
       "version_minor": 0
      },
      "text/plain": [
       "VBox(children=(HTML(value='<center> <img\\nsrc=https://huggingface.co/front/assets/huggingface_logo-noborder.sv…"
      ]
     },
     "metadata": {},
     "output_type": "display_data"
    }
   ],
   "source": [
    "from huggingface_hub import notebook_login\n",
    "\n",
    "#notebook_login()"
   ]
  },
  {
   "cell_type": "code",
   "execution_count": 176,
   "metadata": {
    "colab": {
     "base_uri": "https://localhost:8080/"
    },
    "execution": {
     "iopub.execute_input": "2025-05-07T20:13:15.319225Z",
     "iopub.status.busy": "2025-05-07T20:13:15.318969Z",
     "iopub.status.idle": "2025-05-07T20:13:15.327116Z",
     "shell.execute_reply": "2025-05-07T20:13:15.326538Z",
     "shell.execute_reply.started": "2025-05-07T20:13:15.319204Z"
    },
    "id": "7K0ohuom-MnS",
    "outputId": "eb741baf-91a0-46c4-c8c4-8006d1a93162"
   },
   "outputs": [],
   "source": [
    "#!unzip /content/archive.zip -d /content/extracted_data"
   ]
  },
  {
   "cell_type": "markdown",
   "metadata": {
    "id": "AB_J-ivRzdjx"
   },
   "source": [
    "## Load dataset"
   ]
  },
  {
   "cell_type": "markdown",
   "metadata": {
    "id": "SUkq3H3dzdjx"
   },
   "source": [
    "Start by loading the WNUT 17 dataset from the 🤗 Datasets library:"
   ]
  },
  {
   "cell_type": "code",
   "execution_count": null,
   "metadata": {
    "execution": {
     "iopub.status.busy": "2025-05-07T20:24:31.038068Z",
     "iopub.status.idle": "2025-05-07T20:24:31.038424Z",
     "shell.execute_reply": "2025-05-07T20:24:31.038231Z",
     "shell.execute_reply.started": "2025-05-07T20:24:31.038217Z"
    },
    "id": "8pTteVQazdjy"
   },
   "outputs": [],
   "source": [
    "import pyconll\n",
    "data = pyconll.load_from_file('/kaggle/input/data-set2/Arabic_POS.conllu')"
   ]
  },
  {
   "cell_type": "markdown",
   "metadata": {
    "id": "9sVzMXpuzdjy"
   },
   "source": [
    "Then take a look at an example:"
   ]
  },
  {
   "cell_type": "markdown",
   "metadata": {
    "id": "vRbifUQNHznQ"
   },
   "source": [
    "#Preprocessing"
   ]
  },
  {
   "cell_type": "code",
   "execution_count": 178,
   "metadata": {
    "execution": {
     "iopub.execute_input": "2025-05-07T20:13:25.123891Z",
     "iopub.status.busy": "2025-05-07T20:13:25.123678Z",
     "iopub.status.idle": "2025-05-07T20:13:25.364222Z",
     "shell.execute_reply": "2025-05-07T20:13:25.363641Z",
     "shell.execute_reply.started": "2025-05-07T20:13:25.123875Z"
    },
    "id": "hdHO0wlCH4rR"
   },
   "outputs": [],
   "source": [
    "sentences = []\n",
    "labels = []\n",
    "for sentence in data:\n",
    "  sentences.append([token.form for token in sentence])\n",
    "  labels.append([token.upos for token in sentence])"
   ]
  },
  {
   "cell_type": "code",
   "execution_count": 179,
   "metadata": {
    "execution": {
     "iopub.execute_input": "2025-05-07T20:13:25.365233Z",
     "iopub.status.busy": "2025-05-07T20:13:25.364975Z",
     "iopub.status.idle": "2025-05-07T20:13:25.369347Z",
     "shell.execute_reply": "2025-05-07T20:13:25.368682Z",
     "shell.execute_reply.started": "2025-05-07T20:13:25.365209Z"
    }
   },
   "outputs": [],
   "source": [
    "label_list = [\n",
    "    \"ADJ\", \"ADP\", \"ADV\", \"AUX\", \"CCONJ\", \"DET\", \"INTJ\", \"NOUN\", \n",
    "    \"NUM\", \"PART\", \"PRON\", \"PROPN\", \"PUNCT\", \"SCONJ\", \"SYM\", \"VERB\", \"X\", \"None\"\n",
    "]"
   ]
  },
  {
   "cell_type": "code",
   "execution_count": 180,
   "metadata": {
    "execution": {
     "iopub.execute_input": "2025-05-07T20:13:25.370214Z",
     "iopub.status.busy": "2025-05-07T20:13:25.370026Z",
     "iopub.status.idle": "2025-05-07T20:13:25.414843Z",
     "shell.execute_reply": "2025-05-07T20:13:25.414340Z",
     "shell.execute_reply.started": "2025-05-07T20:13:25.370200Z"
    }
   },
   "outputs": [],
   "source": [
    "labels = [\n",
    "    [tag if tag is not None else \"None\" for tag in tag_sequence]\n",
    "    for tag_sequence in labels\n",
    "]\n",
    "# then later you build\n",
    "label_map = {label: i for i, label in enumerate(label_list)}\n",
    "id2label = {i: l for i, l in enumerate(label_list)}\n"
   ]
  },
  {
   "cell_type": "code",
   "execution_count": 181,
   "metadata": {
    "colab": {
     "base_uri": "https://localhost:8080/"
    },
    "execution": {
     "iopub.execute_input": "2025-05-07T20:13:25.415841Z",
     "iopub.status.busy": "2025-05-07T20:13:25.415600Z",
     "iopub.status.idle": "2025-05-07T20:13:25.420972Z",
     "shell.execute_reply": "2025-05-07T20:13:25.420214Z",
     "shell.execute_reply.started": "2025-05-07T20:13:25.415821Z"
    },
    "id": "k6eWyGu7ItiQ",
    "outputId": "ed152a61-3470-408a-fd29-6191a6998be5"
   },
   "outputs": [
    {
     "data": {
      "text/plain": [
       "['برلين',\n",
       " 'ترفض',\n",
       " 'حصول',\n",
       " 'شركة',\n",
       " 'اميركية',\n",
       " 'على',\n",
       " 'رخصة',\n",
       " 'تصنيع',\n",
       " 'دبابة',\n",
       " '\"',\n",
       " 'ليوبارد',\n",
       " '\"',\n",
       " 'الالمانية']"
      ]
     },
     "execution_count": 181,
     "metadata": {},
     "output_type": "execute_result"
    }
   ],
   "source": [
    "sentences[0]"
   ]
  },
  {
   "cell_type": "code",
   "execution_count": 182,
   "metadata": {
    "colab": {
     "base_uri": "https://localhost:8080/"
    },
    "execution": {
     "iopub.execute_input": "2025-05-07T20:13:25.423827Z",
     "iopub.status.busy": "2025-05-07T20:13:25.423653Z",
     "iopub.status.idle": "2025-05-07T20:13:25.433250Z",
     "shell.execute_reply": "2025-05-07T20:13:25.432620Z",
     "shell.execute_reply.started": "2025-05-07T20:13:25.423814Z"
    },
    "id": "tb_dJRe6QeuO",
    "outputId": "89aa7793-d541-45de-ec89-3605d7ea4b8c"
   },
   "outputs": [],
   "source": [
    "sentense_id = []\n",
    "for i in range (len(sentences)):\n",
    "  sentense_id.append(i)\n"
   ]
  },
  {
   "cell_type": "code",
   "execution_count": 183,
   "metadata": {
    "colab": {
     "base_uri": "https://localhost:8080/"
    },
    "execution": {
     "iopub.execute_input": "2025-05-07T20:13:25.434105Z",
     "iopub.status.busy": "2025-05-07T20:13:25.433892Z",
     "iopub.status.idle": "2025-05-07T20:13:25.445497Z",
     "shell.execute_reply": "2025-05-07T20:13:25.444776Z",
     "shell.execute_reply.started": "2025-05-07T20:13:25.434091Z"
    },
    "id": "ksygnP2EIwML",
    "outputId": "48b948f6-eaef-491f-ae80-8bc5745ba0b0"
   },
   "outputs": [
    {
     "data": {
      "text/plain": [
       "['X',\n",
       " 'VERB',\n",
       " 'NOUN',\n",
       " 'NOUN',\n",
       " 'ADJ',\n",
       " 'ADP',\n",
       " 'NOUN',\n",
       " 'NOUN',\n",
       " 'NOUN',\n",
       " 'PUNCT',\n",
       " 'X',\n",
       " 'PUNCT',\n",
       " 'ADJ']"
      ]
     },
     "execution_count": 183,
     "metadata": {},
     "output_type": "execute_result"
    }
   ],
   "source": [
    "labels[0]\n"
   ]
  },
  {
   "cell_type": "code",
   "execution_count": 184,
   "metadata": {
    "colab": {
     "base_uri": "https://localhost:8080/"
    },
    "execution": {
     "iopub.execute_input": "2025-05-07T20:13:25.446544Z",
     "iopub.status.busy": "2025-05-07T20:13:25.446363Z",
     "iopub.status.idle": "2025-05-07T20:13:25.506852Z",
     "shell.execute_reply": "2025-05-07T20:13:25.506322Z",
     "shell.execute_reply.started": "2025-05-07T20:13:25.446522Z"
    },
    "id": "0GqskhWVSmeg",
    "outputId": "de85615d-29ef-464e-e661-9a46af89eb6b"
   },
   "outputs": [
    {
     "data": {
      "text/plain": [
       "[16, 15, 7, 7, 0, 1, 7, 7, 7, 12, 16, 12, 0]"
      ]
     },
     "execution_count": 184,
     "metadata": {},
     "output_type": "execute_result"
    }
   ],
   "source": [
    "label_ids = [\n",
    "    [label_map[tag] for tag in tag_sequence]\n",
    "    for tag_sequence in labels\n",
    "]\n",
    "label_ids[0]"
   ]
  },
  {
   "cell_type": "code",
   "execution_count": 185,
   "metadata": {
    "colab": {
     "base_uri": "https://localhost:8080/"
    },
    "execution": {
     "iopub.execute_input": "2025-05-07T20:13:25.507849Z",
     "iopub.status.busy": "2025-05-07T20:13:25.507594Z",
     "iopub.status.idle": "2025-05-07T20:13:25.512116Z",
     "shell.execute_reply": "2025-05-07T20:13:25.511617Z",
     "shell.execute_reply.started": "2025-05-07T20:13:25.507827Z"
    },
    "id": "AfelclegTE7-",
    "outputId": "6cf5c463-2843-4a87-cc07-1b143ec32855"
   },
   "outputs": [
    {
     "data": {
      "text/plain": [
       "['X',\n",
       " 'VERB',\n",
       " 'NOUN',\n",
       " 'NOUN',\n",
       " 'ADJ',\n",
       " 'ADP',\n",
       " 'NOUN',\n",
       " 'NOUN',\n",
       " 'NOUN',\n",
       " 'PUNCT',\n",
       " 'X',\n",
       " 'PUNCT',\n",
       " 'ADJ']"
      ]
     },
     "execution_count": 185,
     "metadata": {},
     "output_type": "execute_result"
    }
   ],
   "source": [
    "labels[0]"
   ]
  },
  {
   "cell_type": "code",
   "execution_count": 186,
   "metadata": {
    "execution": {
     "iopub.execute_input": "2025-05-07T20:13:25.513191Z",
     "iopub.status.busy": "2025-05-07T20:13:25.512950Z",
     "iopub.status.idle": "2025-05-07T20:13:25.523228Z",
     "shell.execute_reply": "2025-05-07T20:13:25.522746Z",
     "shell.execute_reply.started": "2025-05-07T20:13:25.513169Z"
    },
    "id": "Y6fSbX_MTTet"
   },
   "outputs": [],
   "source": [
    "data_dict = {\n",
    "    'id': sentense_id,\n",
    "    'ner_tags': label_ids,\n",
    "    'tokens': sentences,\n",
    "}"
   ]
  },
  {
   "cell_type": "code",
   "execution_count": 187,
   "metadata": {
    "execution": {
     "iopub.execute_input": "2025-05-07T20:13:25.524200Z",
     "iopub.status.busy": "2025-05-07T20:13:25.523970Z",
     "iopub.status.idle": "2025-05-07T20:13:25.534845Z",
     "shell.execute_reply": "2025-05-07T20:13:25.534160Z",
     "shell.execute_reply.started": "2025-05-07T20:13:25.524181Z"
    },
    "id": "lPIffS-5I7Mh"
   },
   "outputs": [],
   "source": [
    "def tokenize_and_align_labels(examples):\n",
    "    tokenized_inputs = tokenizer(\n",
    "        examples[\"tokens\"],\n",
    "        truncation=True,\n",
    "        is_split_into_words=True\n",
    "    )\n",
    "    labels = []\n",
    "    for i, label in enumerate(examples[f\"ner_tags\"]):\n",
    "        word_ids = tokenized_inputs.word_ids(batch_index=i)  # Map tokens to their respective word.\n",
    "        previous_word_idx = None\n",
    "        label_ids = []\n",
    "        for word_idx in word_ids:  # Set the special tokens to -100.\n",
    "            if word_idx is None:\n",
    "                label_ids.append(-100)\n",
    "            elif word_idx != previous_word_idx:  # Only label the first token of a given word.\n",
    "                label_ids.append(label[word_idx])\n",
    "            else:\n",
    "                label_ids.append(-100)\n",
    "            previous_word_idx = word_idx\n",
    "        labels.append(label_ids)\n",
    "\n",
    "    tokenized_inputs[\"labels\"] = labels\n",
    "    return tokenized_inputs"
   ]
  },
  {
   "cell_type": "code",
   "execution_count": 188,
   "metadata": {
    "execution": {
     "iopub.execute_input": "2025-05-07T20:13:25.535821Z",
     "iopub.status.busy": "2025-05-07T20:13:25.535559Z",
     "iopub.status.idle": "2025-05-07T20:13:25.799817Z",
     "shell.execute_reply": "2025-05-07T20:13:25.799175Z",
     "shell.execute_reply.started": "2025-05-07T20:13:25.535801Z"
    }
   },
   "outputs": [],
   "source": [
    "from transformers import AutoTokenizer, DataCollatorForTokenClassification\n",
    "\n",
    "# 1. Initialize tokenizer with correct Arabic model\n",
    "tokenizer = AutoTokenizer.from_pretrained(\"aubmindlab/bert-base-arabertv02\")\n",
    "\n",
    "# 2. Now create the data collator\n",
    "data_collator = DataCollatorForTokenClassification(\n",
    "    tokenizer=tokenizer,\n",
    "    return_tensors=\"tf\"  \n",
    ")"
   ]
  },
  {
   "cell_type": "code",
   "execution_count": 189,
   "metadata": {
    "execution": {
     "iopub.execute_input": "2025-05-07T20:13:25.800836Z",
     "iopub.status.busy": "2025-05-07T20:13:25.800580Z",
     "iopub.status.idle": "2025-05-07T20:13:25.938860Z",
     "shell.execute_reply": "2025-05-07T20:13:25.938317Z",
     "shell.execute_reply.started": "2025-05-07T20:13:25.800813Z"
    },
    "id": "626Jl98gUM_x"
   },
   "outputs": [],
   "source": [
    "from datasets import Dataset\n",
    "data_dict = Dataset.from_dict(data_dict)"
   ]
  },
  {
   "cell_type": "code",
   "execution_count": null,
   "metadata": {
    "colab": {
     "base_uri": "https://localhost:8080/",
     "height": 49,
     "referenced_widgets": [
      "a106e9346f534d76b19e4fdc62f25c74",
      "323becde65714e28aa8e278941e78194",
      "b2d82fd0c4474d6491bb9b97ad9801fa",
      "6cd72459b91249bcb2fd3d4342dd0d7d",
      "ac2f7447c61f47ad96d0b2759687011b",
      "237d8fc8686b4866ad6a04c202c0629f",
      "877f1d7f26cc4e138a96715b9555985a",
      "75f9a7bfcaab4f5296f52e4e47c444ac",
      "00b2b1b333f44b7abfc4ad7f86f507f9",
      "33468c2aedc5410db8dbf8171bb0d337",
      "562b97543fb14eedb2165662dae96a22"
     ]
    },
    "execution": {
     "iopub.execute_input": "2025-05-07T20:13:25.939815Z",
     "iopub.status.busy": "2025-05-07T20:13:25.939575Z",
     "iopub.status.idle": "2025-05-07T20:13:27.338973Z",
     "shell.execute_reply": "2025-05-07T20:13:27.338214Z",
     "shell.execute_reply.started": "2025-05-07T20:13:25.939792Z"
    },
    "id": "VfA_KG1sLSk4",
    "outputId": "078dcca1-dcb1-4815-9f64-94fb3abfeb75"
   },
   "outputs": [],
   "source": [
    "tokenized_data = data_dict.map(tokenize_and_align_labels, batched=True)"
   ]
  },
  {
   "cell_type": "markdown",
   "metadata": {
    "id": "-b8n0KIAdOlK"
   },
   "source": [
    "#Split data"
   ]
  },
  {
   "cell_type": "code",
   "execution_count": 191,
   "metadata": {
    "execution": {
     "iopub.execute_input": "2025-05-07T20:13:27.339956Z",
     "iopub.status.busy": "2025-05-07T20:13:27.339759Z",
     "iopub.status.idle": "2025-05-07T20:13:27.352397Z",
     "shell.execute_reply": "2025-05-07T20:13:27.351748Z",
     "shell.execute_reply.started": "2025-05-07T20:13:27.339940Z"
    },
    "id": "_y-8HVhldUim"
   },
   "outputs": [],
   "source": [
    "from sklearn.model_selection import train_test_split\n",
    "train_test_split = tokenized_data.train_test_split(test_size=0.2)"
   ]
  },
  {
   "cell_type": "code",
   "execution_count": 192,
   "metadata": {
    "execution": {
     "iopub.execute_input": "2025-05-07T20:13:27.353391Z",
     "iopub.status.busy": "2025-05-07T20:13:27.353129Z",
     "iopub.status.idle": "2025-05-07T20:13:27.357824Z",
     "shell.execute_reply": "2025-05-07T20:13:27.357087Z",
     "shell.execute_reply.started": "2025-05-07T20:13:27.353365Z"
    },
    "id": "f4SCWlUfdz0E"
   },
   "outputs": [],
   "source": [
    "tokenized_data_train = train_test_split['train']\n",
    "tokenized_data_test = train_test_split['test']\n"
   ]
  },
  {
   "cell_type": "markdown",
   "metadata": {
    "id": "m3vTEl_3eWhH"
   },
   "source": [
    "#Evaluate"
   ]
  },
  {
   "cell_type": "code",
   "execution_count": 193,
   "metadata": {
    "colab": {
     "base_uri": "https://localhost:8080/",
     "height": 49,
     "referenced_widgets": [
      "4b5f7879b64144a291b2d517e71eb1b1",
      "7892f209a47647afa3c093c260f1df8d",
      "3853514dea49403c8f962cbc4b7fc94a",
      "945884294e4d47539d08b030903aca1c",
      "54ff583a1a5e44f287c0324267427889",
      "141b6aeed929415fb265829b289e1dee",
      "a156608894c44e949b53f179a9c812ad",
      "1172f6d15e5f4ef2bfb6eb26ac954517",
      "e1474ba272304eddad1220c076a4c59e",
      "998c124e8267419db0bba7587c3dd59b",
      "36220b6801524bbaa467bfabf6c164f0"
     ]
    },
    "execution": {
     "iopub.execute_input": "2025-05-07T20:13:27.359351Z",
     "iopub.status.busy": "2025-05-07T20:13:27.358558Z",
     "iopub.status.idle": "2025-05-07T20:13:27.604741Z",
     "shell.execute_reply": "2025-05-07T20:13:27.604256Z",
     "shell.execute_reply.started": "2025-05-07T20:13:27.359324Z"
    },
    "id": "6Et9WlfaZzGE",
    "outputId": "2b209477-c621-42e8-e087-b75aaebc9edd"
   },
   "outputs": [],
   "source": [
    "import evaluate\n",
    "\n",
    "seqeval = evaluate.load(\"seqeval\")"
   ]
  },
  {
   "cell_type": "code",
   "execution_count": 194,
   "metadata": {
    "execution": {
     "iopub.execute_input": "2025-05-07T20:13:27.605502Z",
     "iopub.status.busy": "2025-05-07T20:13:27.605343Z",
     "iopub.status.idle": "2025-05-07T20:13:27.611206Z",
     "shell.execute_reply": "2025-05-07T20:13:27.610700Z",
     "shell.execute_reply.started": "2025-05-07T20:13:27.605490Z"
    },
    "id": "YLRNZAp-aMce"
   },
   "outputs": [],
   "source": [
    "import numpy as np\n",
    "def compute_metrics(p):\n",
    "    predictions, labels = p\n",
    "    predictions = np.argmax(predictions, axis=2)\n",
    "\n",
    "    true_predictions = [\n",
    "        [label_list[p] for (p, l) in zip(prediction, label) if l != -100]\n",
    "        for prediction, label in zip(predictions, labels)\n",
    "    ]\n",
    "    true_labels = [\n",
    "        [label_list[l] for (p, l) in zip(prediction, label) if l != -100]\n",
    "        for prediction, label in zip(predictions, labels)\n",
    "    ]\n",
    "\n",
    "    results = seqeval.compute(predictions=true_predictions, references=true_labels)\n",
    "    return {\n",
    "        \"precision\": results[\"overall_precision\"],\n",
    "        \"recall\": results[\"overall_recall\"],\n",
    "        \"f1\": results[\"overall_f1\"],\n",
    "        \"accuracy\": results[\"overall_accuracy\"],\n",
    "    }"
   ]
  },
  {
   "cell_type": "markdown",
   "metadata": {
    "id": "VP2kawvFlLK0"
   },
   "source": [
    "#Model"
   ]
  },
  {
   "cell_type": "code",
   "execution_count": 195,
   "metadata": {
    "execution": {
     "iopub.execute_input": "2025-05-07T20:13:27.612148Z",
     "iopub.status.busy": "2025-05-07T20:13:27.611907Z",
     "iopub.status.idle": "2025-05-07T20:13:27.622764Z",
     "shell.execute_reply": "2025-05-07T20:13:27.622175Z",
     "shell.execute_reply.started": "2025-05-07T20:13:27.612132Z"
    },
    "id": "BXKjX1DBe7LV"
   },
   "outputs": [],
   "source": [
    "from transformers import create_optimizer\n",
    "\n",
    "batch_size = 4\n",
    "num_train_epochs = 3\n",
    "num_train_steps = (len(train_test_split[\"train\"]) // batch_size) * num_train_epochs\n",
    "optimizer, lr_schedule = create_optimizer(\n",
    "    init_lr=2e-5,\n",
    "    num_train_steps=num_train_steps,\n",
    "    weight_decay_rate=0.01,\n",
    "    num_warmup_steps=0,\n",
    ")"
   ]
  },
  {
   "cell_type": "code",
   "execution_count": null,
   "metadata": {
    "colab": {
     "base_uri": "https://localhost:8080/",
     "height": 170,
     "referenced_widgets": [
      "b2d84c39e18846daae167819f28adb24",
      "85b8d04ebfce47a88f4c060684454d73",
      "a24e780894d641fdac92454fa60b8834",
      "116254261dca4d50adee7a284f18f5e5",
      "727eeb9ceca045179b845d51d6c31c55",
      "dbbc6c03d988495989c96bdd106fd1bc",
      "7bc41dbd9f914750aa6ab92cba5edd44",
      "c0fb45d02db74c9aa84e34a1d293bfe3",
      "50d7e54898994090b348e80e3be0afd5",
      "75f8d2c8787c415f8f800dd8673ff6a9",
      "d67d2d2cedc144f8993f4a45bc183696",
      "d9cee1aa76284532aa828044b3ba47f1",
      "9dddb65e3ba64c5aa2508834cb8f4777",
      "b09bca744c684791a2585ebcd602e40f",
      "d93a1a06912041e9815c7b04fe6bfba1",
      "8e6889c0821245a29f1feecc5b189341",
      "1dd8342c587143d0bfe319e0cc9caa57",
      "1537adee6d4147f299132ea1e8c63e2d",
      "84601208cb154c80a5a528737734b919",
      "b3aa325d23dd45feb0903a6c219f1c67",
      "4911520e59f8480d97e48d249c9118a8",
      "9589b47d79b74e4c8e005dcec39329b9"
     ]
    },
    "execution": {
     "iopub.execute_input": "2025-05-07T20:13:27.623812Z",
     "iopub.status.busy": "2025-05-07T20:13:27.623544Z",
     "iopub.status.idle": "2025-05-07T20:13:29.023506Z",
     "shell.execute_reply": "2025-05-07T20:13:29.022956Z",
     "shell.execute_reply.started": "2025-05-07T20:13:27.623789Z"
    },
    "id": "xE0D1xEMfDz3",
    "outputId": "f518276d-849a-48d1-b38a-2d335f0a4ffd"
   },
   "outputs": [],
   "source": [
    "from transformers import TFAutoModelForTokenClassification\n",
    "\n",
    "model = TFAutoModelForTokenClassification.from_pretrained(\n",
    "    \"aubmindlab/bert-base-arabertv02\", \n",
    "    num_labels=len(label_list),\n",
    "    id2label=id2label, \n",
    "    label2id=label_map\n",
    ")"
   ]
  },
  {
   "cell_type": "code",
   "execution_count": 197,
   "metadata": {
    "execution": {
     "iopub.execute_input": "2025-05-07T20:13:29.024979Z",
     "iopub.status.busy": "2025-05-07T20:13:29.024768Z",
     "iopub.status.idle": "2025-05-07T20:13:29.291648Z",
     "shell.execute_reply": "2025-05-07T20:13:29.291124Z",
     "shell.execute_reply.started": "2025-05-07T20:13:29.024964Z"
    },
    "id": "0RSNL6X-h4Yu"
   },
   "outputs": [],
   "source": [
    "tf_train_set = model.prepare_tf_dataset(\n",
    "    train_test_split[\"train\"],\n",
    "    shuffle=True,\n",
    "    batch_size=4,\n",
    "    collate_fn=data_collator,\n",
    ")\n",
    "\n",
    "tf_validation_set = model.prepare_tf_dataset(\n",
    "    train_test_split[\"test\"],\n",
    "    shuffle=False,\n",
    "    batch_size=4,\n",
    "    collate_fn=data_collator,\n",
    ")"
   ]
  },
  {
   "cell_type": "code",
   "execution_count": 198,
   "metadata": {
    "execution": {
     "iopub.execute_input": "2025-05-07T20:13:29.292488Z",
     "iopub.status.busy": "2025-05-07T20:13:29.292269Z",
     "iopub.status.idle": "2025-05-07T20:13:29.301825Z",
     "shell.execute_reply": "2025-05-07T20:13:29.301265Z",
     "shell.execute_reply.started": "2025-05-07T20:13:29.292472Z"
    },
    "id": "KyNuTjXAlHPu"
   },
   "outputs": [],
   "source": [
    "import tensorflow as tf\n",
    "\n",
    "model.compile(optimizer=optimizer)"
   ]
  },
  {
   "cell_type": "code",
   "execution_count": 199,
   "metadata": {
    "execution": {
     "iopub.execute_input": "2025-05-07T20:13:29.302634Z",
     "iopub.status.busy": "2025-05-07T20:13:29.302460Z",
     "iopub.status.idle": "2025-05-07T20:13:29.311070Z",
     "shell.execute_reply": "2025-05-07T20:13:29.310404Z",
     "shell.execute_reply.started": "2025-05-07T20:13:29.302621Z"
    },
    "id": "NiSodSkblO0x"
   },
   "outputs": [],
   "source": [
    "from transformers.keras_callbacks import KerasMetricCallback\n",
    "\n",
    "metric_callback = KerasMetricCallback(metric_fn=compute_metrics, eval_dataset=tf_validation_set)"
   ]
  },
  {
   "cell_type": "code",
   "execution_count": null,
   "metadata": {
    "colab": {
     "base_uri": "https://localhost:8080/"
    },
    "execution": {
     "iopub.execute_input": "2025-05-07T20:13:29.779397Z",
     "iopub.status.busy": "2025-05-07T20:13:29.779143Z",
     "iopub.status.idle": "2025-05-07T20:13:32.293697Z",
     "shell.execute_reply": "2025-05-07T20:13:32.293067Z",
     "shell.execute_reply.started": "2025-05-07T20:13:29.779375Z"
    },
    "id": "rt3m5IyvlSZa",
    "outputId": "fb15b6c0-718d-403a-9335-0453519b66a1"
   },
   "outputs": [],
   "source": [
    "from transformers.keras_callbacks import PushToHubCallback\n",
    "\n",
    "push_to_hub_callback = PushToHubCallback(\n",
    "    output_dir=\"Mariam_classifer2\",\n",
    "    hub_model_id=\"MariamOsama3/Mariam_classifer2\",\n",
    "    tokenizer=tokenizer,\n",
    ")"
   ]
  },
  {
   "cell_type": "code",
   "execution_count": 202,
   "metadata": {
    "execution": {
     "iopub.execute_input": "2025-05-07T20:13:32.294861Z",
     "iopub.status.busy": "2025-05-07T20:13:32.294567Z",
     "iopub.status.idle": "2025-05-07T20:13:32.336215Z",
     "shell.execute_reply": "2025-05-07T20:13:32.335616Z",
     "shell.execute_reply.started": "2025-05-07T20:13:32.294842Z"
    },
    "id": "VOGtBgyTlXZW"
   },
   "outputs": [],
   "source": [
    "callbacks = [metric_callback, push_to_hub_callback]"
   ]
  },
  {
   "cell_type": "code",
   "execution_count": 205,
   "metadata": {
    "colab": {
     "base_uri": "https://localhost:8080/"
    },
    "execution": {
     "iopub.execute_input": "2025-05-07T20:31:55.306843Z",
     "iopub.status.busy": "2025-05-07T20:31:55.306307Z",
     "iopub.status.idle": "2025-05-07T20:38:30.200580Z",
     "shell.execute_reply": "2025-05-07T20:38:30.199916Z",
     "shell.execute_reply.started": "2025-05-07T20:31:55.306820Z"
    },
    "id": "HyRPbEbIlZvv",
    "outputId": "6757d501-47b5-404b-feba-94896663d47b"
   },
   "outputs": [
    {
     "name": "stdout",
     "output_type": "stream",
     "text": [
      "Epoch 1/2\n",
      "1215/1215 [==============================] - 194s 160ms/step - loss: 0.0601 - val_loss: 0.0874 - precision: 0.9670 - recall: 0.9651 - f1: 0.9660 - accuracy: 0.9752\n",
      "Epoch 2/2\n",
      "1215/1215 [==============================] - 195s 161ms/step - loss: 0.0604 - val_loss: 0.0874 - precision: 0.9670 - recall: 0.9651 - f1: 0.9660 - accuracy: 0.9752\n"
     ]
    },
    {
     "data": {
      "text/plain": [
       "<tf_keras.src.callbacks.History at 0x7de9c81c8b90>"
      ]
     },
     "execution_count": 205,
     "metadata": {},
     "output_type": "execute_result"
    }
   ],
   "source": [
    "model.fit(x=tf_train_set, validation_data=tf_validation_set, epochs=2, callbacks=callbacks)"
   ]
  },
  {
   "cell_type": "markdown",
   "metadata": {},
   "source": [
    "#Inference"
   ]
  },
  {
   "cell_type": "code",
   "execution_count": 206,
   "metadata": {
    "execution": {
     "iopub.execute_input": "2025-05-07T20:38:30.201899Z",
     "iopub.status.busy": "2025-05-07T20:38:30.201685Z",
     "iopub.status.idle": "2025-05-07T20:38:32.156990Z",
     "shell.execute_reply": "2025-05-07T20:38:32.155989Z",
     "shell.execute_reply.started": "2025-05-07T20:38:30.201884Z"
    }
   },
   "outputs": [],
   "source": [
    "model.save_pretrained(\"Mariam_classifer2\", id2label=id2label, label2id=label_map)"
   ]
  },
  {
   "cell_type": "code",
   "execution_count": null,
   "metadata": {
    "execution": {
     "iopub.execute_input": "2025-05-07T20:38:32.158595Z",
     "iopub.status.busy": "2025-05-07T20:38:32.158057Z",
     "iopub.status.idle": "2025-05-07T20:38:36.565793Z",
     "shell.execute_reply": "2025-05-07T20:38:36.565016Z",
     "shell.execute_reply.started": "2025-05-07T20:38:32.158570Z"
    }
   },
   "outputs": [],
   "source": [
    "model.push_to_hub(\"Mariam_classifer2\")\n",
    "tokenizer.push_to_hub(\"Mariam_classifer2\")"
   ]
  },
  {
   "cell_type": "code",
   "execution_count": 219,
   "metadata": {
    "execution": {
     "iopub.execute_input": "2025-05-07T20:46:29.626929Z",
     "iopub.status.busy": "2025-05-07T20:46:29.626364Z",
     "iopub.status.idle": "2025-05-07T20:46:29.630237Z",
     "shell.execute_reply": "2025-05-07T20:46:29.629536Z",
     "shell.execute_reply.started": "2025-05-07T20:46:29.626907Z"
    }
   },
   "outputs": [],
   "source": [
    "text = \"برلين ترفض حصول شركة امريكية على رخصة\"\n"
   ]
  },
  {
   "cell_type": "code",
   "execution_count": 224,
   "metadata": {
    "execution": {
     "iopub.execute_input": "2025-05-07T20:47:41.017331Z",
     "iopub.status.busy": "2025-05-07T20:47:41.017022Z",
     "iopub.status.idle": "2025-05-07T20:47:43.037417Z",
     "shell.execute_reply": "2025-05-07T20:47:43.036735Z",
     "shell.execute_reply.started": "2025-05-07T20:47:41.017275Z"
    }
   },
   "outputs": [
    {
     "name": "stderr",
     "output_type": "stream",
     "text": [
      "Some layers from the model checkpoint at MariamOsama3/Mariam_classifer2 were not used when initializing TFBertForTokenClassification: ['dropout_759']\n",
      "- This IS expected if you are initializing TFBertForTokenClassification from the checkpoint of a model trained on another task or with another architecture (e.g. initializing a BertForSequenceClassification model from a BertForPreTraining model).\n",
      "- This IS NOT expected if you are initializing TFBertForTokenClassification from the checkpoint of a model that you expect to be exactly identical (initializing a BertForSequenceClassification model from a BertForSequenceClassification model).\n",
      "All the layers of TFBertForTokenClassification were initialized from the model checkpoint at MariamOsama3/Mariam_classifer2.\n",
      "If your task is similar to the task the model of the checkpoint was trained on, you can already use TFBertForTokenClassification for predictions without further training.\n",
      "Device set to use 0\n"
     ]
    },
    {
     "data": {
      "text/plain": [
       "[{'entity': 'X',\n",
       "  'score': 0.9966648,\n",
       "  'index': 1,\n",
       "  'word': 'برلين',\n",
       "  'start': 0,\n",
       "  'end': 5},\n",
       " {'entity': 'VERB',\n",
       "  'score': 0.99800056,\n",
       "  'index': 2,\n",
       "  'word': 'ترفض',\n",
       "  'start': 6,\n",
       "  'end': 10},\n",
       " {'entity': 'NOUN',\n",
       "  'score': 0.99793893,\n",
       "  'index': 3,\n",
       "  'word': 'حصول',\n",
       "  'start': 11,\n",
       "  'end': 15},\n",
       " {'entity': 'NOUN',\n",
       "  'score': 0.99928254,\n",
       "  'index': 4,\n",
       "  'word': 'شركة',\n",
       "  'start': 16,\n",
       "  'end': 20},\n",
       " {'entity': 'ADJ',\n",
       "  'score': 0.98166656,\n",
       "  'index': 5,\n",
       "  'word': 'امريكية',\n",
       "  'start': 21,\n",
       "  'end': 28},\n",
       " {'entity': 'ADP',\n",
       "  'score': 0.99959654,\n",
       "  'index': 6,\n",
       "  'word': 'على',\n",
       "  'start': 29,\n",
       "  'end': 32},\n",
       " {'entity': 'NOUN',\n",
       "  'score': 0.99877137,\n",
       "  'index': 7,\n",
       "  'word': 'رخصة',\n",
       "  'start': 33,\n",
       "  'end': 37}]"
      ]
     },
     "execution_count": 224,
     "metadata": {},
     "output_type": "execute_result"
    }
   ],
   "source": [
    "from transformers import pipeline\n",
    "\n",
    "classifier = pipeline(\"ner\", model=\"MariamOsama3/Mariam_classifer2\")\n",
    "classifier(text)"
   ]
  },
  {
   "cell_type": "markdown",
   "metadata": {},
   "source": [
    "#Model2"
   ]
  }
 ],
 "metadata": {
  "colab": {
   "provenance": []
  },
  "kaggle": {
   "accelerator": "nvidiaTeslaT4",
   "dataSources": [
    {
     "datasetId": 7357890,
     "sourceId": 11721055,
     "sourceType": "datasetVersion"
    },
    {
     "datasetId": 7359095,
     "sourceId": 11722996,
     "sourceType": "datasetVersion"
    }
   ],
   "dockerImageVersionId": 31011,
   "isGpuEnabled": true,
   "isInternetEnabled": true,
   "language": "python",
   "sourceType": "notebook"
  },
  "kernelspec": {
   "display_name": "Python 3",
   "language": "python",
   "name": "python3"
  },
  "language_info": {
   "codemirror_mode": {
    "name": "ipython",
    "version": 3
   },
   "file_extension": ".py",
   "mimetype": "text/x-python",
   "name": "python",
   "nbconvert_exporter": "python",
   "pygments_lexer": "ipython3",
   "version": "3.11.11"
  }
 },
 "nbformat": 4,
 "nbformat_minor": 4
}
